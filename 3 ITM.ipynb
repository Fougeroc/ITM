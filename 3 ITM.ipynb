{
 "cells": [
  {
   "cell_type": "code",
   "execution_count": 20,
   "metadata": {
    "collapsed": true
   },
   "outputs": [],
   "source": [
    "from itm import *"
   ]
  },
  {
   "cell_type": "code",
   "execution_count": 21,
   "metadata": {
    "collapsed": false
   },
   "outputs": [],
   "source": [
    "from surface_dynamics.all import iet\n",
    "T = iet.IET(('a b', 'b a'), [.2,.3])\n",
    "P = iet.Permutation('a b', 'b a')"
   ]
  },
  {
   "cell_type": "code",
   "execution_count": 22,
   "metadata": {
    "collapsed": false
   },
   "outputs": [],
   "source": [
    "def fam(lengths,gap,perm):\n",
    "    l, t = dict(), dict()\n",
    "    for i in range(len(perm)):\n",
    "        l[perm[0][i]] = lengths[i]\n",
    "    left = perm[1][0]\n",
    "    i = 0\n",
    "    t[left] = 0\n",
    "    while perm[0][i] != left:\n",
    "        t[left] -= lengths[i]\n",
    "        i += 1\n",
    "    right = perm[1][-1]\n",
    "    i = 0\n",
    "    t[right] = sum(lengths) - lengths[0]\n",
    "    while perm[0][i] != right:\n",
    "        i += 1\n",
    "        t[right] -= lengths[i]\n",
    "    middle = perm[1][1]\n",
    "    t[middle] = gap\n",
    "    i = 0\n",
    "    while perm[0][i] != middle:\n",
    "        t[middle] -= lengths[i]\n",
    "        i += 1\n",
    "    return ITM(l, t, perm[0])"
   ]
  },
  {
   "cell_type": "code",
   "execution_count": 4,
   "metadata": {
    "collapsed": false
   },
   "outputs": [
    {
     "data": {
      "image/png": "[encoded data removed]",
      "text/plain": [
       "Graphics object consisting of 12 graphics primitives"
      ]
     },
     "metadata": {},
     "output_type": "display_data"
    },
    {
     "data": {
      "image/png": "[encoded data removed]",
      "text/plain": [
       "Graphics object consisting of 12 graphics primitives"
      ]
     },
     "metadata": {},
     "output_type": "display_data"
    }
   ],
   "source": [
    "I = fam([.3,sqrt(2.)/2,1-.3-sqrt(2.)/2], .1, iet.Permutation('a b c', 'c a b'))\n",
    "p1 = I.plot_two_intervals().show(axes=False, xmax = 1, figsize=(8,1))\n",
    "I.rauzy(-1)\n",
    "I.plot_two_intervals().show(axes=False, xmax = 1, figsize=(8,1))\n"
   ]
  },
  {
   "cell_type": "code",
   "execution_count": 5,
   "metadata": {
    "collapsed": false
   },
   "outputs": [],
   "source": [
    "a = []\n",
    "b = []\n",
    "l = [.2,sqrt(2.)/2,1-.2-sqrt(2.)/2]\n",
    "perm = iet.Permutation('a b c', 'c b a')\n",
    "\n",
    "for x in srange(random()*1e-5,l[0],l[0]/20):\n",
    "    I = fam(l, x, perm)\n",
    "    position=[0,-5]\n",
    "    plt = I.plot_two_intervals()\n",
    "    if x < I.length(perm[1][0]):\n",
    "        I.rauzy(-1)\n",
    "        plt += I.plot_two_intervals(position=(0,-5))\n",
    "    else:\n",
    "        I.rauzy(0)\n",
    "        I.rauzy(0)\n",
    "        position[0] += l[-1]\n",
    "        plt += I.plot_two_intervals(position=(sum(l),-5), horizontal_alignment='right')\n",
    "    a.append(plt)"
   ]
  },
  {
   "cell_type": "code",
   "execution_count": 6,
   "metadata": {
    "collapsed": false
   },
   "outputs": [
    {
     "data": {
      "image/png": "[encoded data removed]",
      "text/plain": [
       "Graphics object consisting of 24 graphics primitives"
      ]
     },
     "metadata": {},
     "output_type": "display_data"
    }
   ],
   "source": [
    "I = fam(l, 1e-5, perm)\n",
    "plt = I.plot_two_intervals()\n",
    "I.rauzy(-1)\n",
    "plt += I.plot_two_intervals(position=(sum(l),-5), horizontal_alignment='right')\n",
    "plt.show(axes=False, xmax = 1, figsize=(8,2))"
   ]
  },
  {
   "cell_type": "code",
   "execution_count": 9,
   "metadata": {
    "collapsed": false
   },
   "outputs": [
    {
     "data": {
      "text/plain": [
       "[(1.0, 0.0, 0.0), (0.0, 0.0, 1.0), (0.0, 1.0, 0.0)]"
      ]
     },
     "execution_count": 9,
     "metadata": {},
     "output_type": "execute_result"
    }
   ],
   "source": [
    "I._colors"
   ]
  },
  {
   "cell_type": "code",
   "execution_count": 7,
   "metadata": {
    "collapsed": false
   },
   "outputs": [],
   "source": [
    "ani = animate(a, axes=False, xmax = 1, figsize=(8,2), )"
   ]
  },
  {
   "cell_type": "code",
   "execution_count": 10,
   "metadata": {
    "collapsed": false
   },
   "outputs": [],
   "source": [
    "ani.save('t')"
   ]
  },
  {
   "cell_type": "code",
   "execution_count": 9,
   "metadata": {
    "collapsed": false
   },
   "outputs": [
    {
     "name": "stderr",
     "output_type": "stream",
     "text": [
      "/home/fougeroc/SageMath/local/lib/python2.7/site-packages/sage/plot/animate.py:608: DeprecationWarning: use tmp_filename instead\n",
      "See http://trac.sagemath.org/17234 for details.\n",
      "  savefile = graphics_filename(ext='.gif')\n"
     ]
    }
   ],
   "source": [
    "ani.gif(delay=50)"
   ]
  },
  {
   "cell_type": "code",
   "execution_count": 28,
   "metadata": {
    "collapsed": false
   },
   "outputs": [],
   "source": [
    "a = []\n",
    "l = [.25,sqrt(2.)/2-1/2,1+1/2-.25-sqrt(2.)/2]\n",
    "perm = iet.Permutation('a b c', 'c b a')\n",
    "\n",
    "for x in srange(random()*1e-5,sum(l)-l[0],(sum(l)-l[0])/40):\n",
    "    I = fam(l, x, perm)\n",
    "    position=[0,-5]\n",
    "    plt = I.plot_two_intervals()\n",
    "    if x < I.length(perm[1][0]):\n",
    "        I.rauzy(-1)\n",
    "        I.rauzy(-1)\n",
    "        plt += I.plot_two_intervals(position=(0,-5))\n",
    "    else:\n",
    "        I.rauzy(0)\n",
    "        I.rauzy(0)\n",
    "        position[0] += l[-1]\n",
    "        plt += I.plot_two_intervals(position=(sum(l),-5), horizontal_alignment='right')\n",
    "    a.append(plt)"
   ]
  },
  {
   "cell_type": "code",
   "execution_count": 29,
   "metadata": {
    "collapsed": false
   },
   "outputs": [],
   "source": [
    "ani = animate(a, axes=False, xmax = 1, figsize=(8,2))\n",
    "ani.gif(delay=50)\n",
    "ani.save('alter_c')"
   ]
  },
  {
   "cell_type": "code",
   "execution_count": 16,
   "metadata": {
    "collapsed": false
   },
   "outputs": [
    {
     "ename": "NameError",
     "evalue": "name 'd' is not defined",
     "output_type": "error",
     "traceback": [
      "\u001b[0;31m---------------------------------------------------------------------------\u001b[0m",
      "\u001b[0;31mNameError\u001b[0m                                 Traceback (most recent call last)",
      "\u001b[0;32m<ipython-input-16-8bba8fe72461>\u001b[0m in \u001b[0;36m<module>\u001b[0;34m()\u001b[0m\n\u001b[0;32m----> 1\u001b[0;31m \u001b[0md\u001b[0m\u001b[0;34m[\u001b[0m\u001b[0;34m'b'\u001b[0m\u001b[0;34m]\u001b[0m \u001b[0;34m=\u001b[0m \u001b[0mInteger\u001b[0m\u001b[0;34m(\u001b[0m\u001b[0;36m3\u001b[0m\u001b[0;34m)\u001b[0m\u001b[0;34m\u001b[0m\u001b[0m\n\u001b[0m",
      "\u001b[0;31mNameError\u001b[0m: name 'd' is not defined"
     ]
    }
   ],
   "source": [
    "d['b'] = 3"
   ]
  },
  {
   "cell_type": "code",
   "execution_count": 17,
   "metadata": {
    "collapsed": false
   },
   "outputs": [
    {
     "data": {
      "text/plain": [
       "{'a': 3, 'b': 3}"
      ]
     },
     "execution_count": 17,
     "metadata": {},
     "output_type": "execute_result"
    }
   ],
   "source": [
    "d"
   ]
  },
  {
   "cell_type": "code",
   "execution_count": 19,
   "metadata": {
    "collapsed": false
   },
   "outputs": [
    {
     "data": {
      "text/plain": [
       "{}"
      ]
     },
     "execution_count": 19,
     "metadata": {},
     "output_type": "execute_result"
    }
   ],
   "source": [
    "dict()"
   ]
  },
  {
   "cell_type": "code",
   "execution_count": null,
   "metadata": {
    "collapsed": true
   },
   "outputs": [],
   "source": []
  }
 ],
 "metadata": {
  "kernelspec": {
   "display_name": "SageMath 7.4",
   "language": "",
   "name": "sagemath"
  },
  "language_info": {
   "codemirror_mode": {
    "name": "ipython",
    "version": 2
   },
   "file_extension": ".py",
   "mimetype": "text/x-python",
   "name": "python",
   "nbconvert_exporter": "python",
   "pygments_lexer": "ipython2",
   "version": "2.7.10"
  }
 },
 "nbformat": 4,
 "nbformat_minor": 0
}
